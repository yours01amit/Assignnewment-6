{
 "cells": [
  {
   "cell_type": "markdown",
   "id": "6d6c9dda",
   "metadata": {},
   "source": [
    "Que1: write a program to accept percentage from the user and display the grade according to the following criteria:"
   ]
  },
  {
   "cell_type": "code",
   "execution_count": 5,
   "id": "45615ff7",
   "metadata": {},
   "outputs": [
    {
     "name": "stdout",
     "output_type": "stream",
     "text": [
      "Enter the percentage: 81\n",
      "B\n"
     ]
    }
   ],
   "source": [
    "marks = int(input(\"Enter the percentage: \"))\n",
    "\n",
    "if marks>90:\n",
    "    print(\"A\")\n",
    "elif marks>80 and marks<=90:\n",
    "    print(\"B\")\n",
    "elif marks>=60 and marks<=80:\n",
    "    print(\"c\")\n",
    "else:\n",
    "    print(\"D\")\n",
    "    "
   ]
  },
  {
   "cell_type": "markdown",
   "id": "b5bea070",
   "metadata": {},
   "source": [
    "Que2: Write a program to accept the cost price of a bike and display the road tax to be paid according to the following criteria:"
   ]
  },
  {
   "cell_type": "code",
   "execution_count": 7,
   "id": "e5a73ce7",
   "metadata": {},
   "outputs": [
    {
     "name": "stdout",
     "output_type": "stream",
     "text": [
      "Enter the bike price49000\n",
      "Tax 2450.0\n"
     ]
    }
   ],
   "source": [
    "cost_price = int(input(\"Enter the bike price\"))\n",
    "\n",
    "if cost_price > 100000:\n",
    "    print(\"Tax\", cost_price*15/100)\n",
    "elif cost_price > 50000 and cost_price <= 100000:\n",
    "    print(\"Tax\", cost_price*10/100)\n",
    "else:\n",
    "    print(\"Tax\", cost_price*5/100)"
   ]
  },
  {
   "cell_type": "markdown",
   "id": "26964f24",
   "metadata": {},
   "source": [
    "Que3: Accept any city from the user and display monuments of that city"
   ]
  },
  {
   "cell_type": "code",
   "execution_count": 10,
   "id": "0d2f773e",
   "metadata": {},
   "outputs": [
    {
     "name": "stdout",
     "output_type": "stream",
     "text": [
      "Enter a cityJaipur\n",
      "Jal mahal\n"
     ]
    }
   ],
   "source": [
    "city = input(\"Enter a city\")\n",
    "\n",
    "if city == \"Delhi\":\n",
    "    print(\"Red fort\")\n",
    "elif city == \"Agra\":\n",
    "    print(\"Taj mahal\")\n",
    "elif city == \"Jaipur\":\n",
    "    print(\"Jal mahal\")"
   ]
  },
  {
   "cell_type": "markdown",
   "id": "057214ae",
   "metadata": {},
   "source": [
    "Que4: check how many times a given number can be divided by 3 before it is less than or equal to 10"
   ]
  },
  {
   "cell_type": "code",
   "execution_count": 1,
   "id": "9ca1af62",
   "metadata": {},
   "outputs": [
    {
     "name": "stdout",
     "output_type": "stream",
     "text": [
      "Enter the number81\n",
      "2\n"
     ]
    }
   ],
   "source": [
    "num = int(input(\"Enter the number\"))\n",
    "count = 0\n",
    "\n",
    "while num>10:\n",
    "    num=num/3\n",
    "    count+=1\n",
    "    \n",
    "# print(count)"
   ]
  },
  {
   "cell_type": "markdown",
   "id": "98ebacfb",
   "metadata": {},
   "source": [
    "Que5: Why and when to use while loop in python give a detailed description with example?"
   ]
  },
  {
   "cell_type": "markdown",
   "id": "ddf063de",
   "metadata": {},
   "source": [
    "In Python, a while loop is a way to repeatedly execute a block of code as long as a certain condition is true.The syntax for a while loop is:\n",
    "\n",
    "while condition:\n",
    "    # Code to be executed repeatedly\n",
    "\n",
    "The condition is a Boolean expression that determines whether the loop should continue or not. If the condition is true, the code inside the loop is executed, and then the condition is checked again. This process continues until the condition is false, at which point the loop is exited, and the program moves on to the next line of code.\n",
    "\n",
    "You can use a while loop in Python when you need to repeat a task until a certain condition is met. For example:\n",
    "1 User Input: If you are writing a program that requires the user to input some data, you can use a while loop to keep asking the user until they provide valid input.\n",
    "\n",
    "\n",
    "\n",
    "while True:\n",
    "    user_input = input(\"Please enter a number: \")\n",
    "    if user_input.isdigit():\n",
    "        print(\"Thank you for entering\", user_input)\n",
    "        break\n",
    "    else:\n",
    "        print(\"Invalid input, please try again.\")\n",
    "        \n",
    "   \n",
    "\n",
    "2 Data Processing: If you are working with data, you may need to process the data in a loop until a certain goal or condition is met.\n",
    "\n",
    "\n",
    "\n",
    "numbers = [1, 2, 3, 4, 5]\n",
    "total = 0\n",
    "index = 0\n",
    "\n",
    "while index < len(numbers):\n",
    "    total += numbers[index]\n",
    "    index += 1\n",
    "\n",
    "print(\"The total is\", total)\n",
    "\n",
    "\n",
    "\n",
    "\n"
   ]
  },
  {
   "cell_type": "markdown",
   "id": "aa01b623",
   "metadata": {},
   "source": [
    "Que6: Use nested while loop to print 3 different pattern."
   ]
  },
  {
   "cell_type": "code",
   "execution_count": 2,
   "id": "d4372cd7",
   "metadata": {},
   "outputs": [
    {
     "name": "stdout",
     "output_type": "stream",
     "text": [
      "* \n",
      "* * \n",
      "* * * \n",
      "* * * * \n",
      "* * * * * \n"
     ]
    }
   ],
   "source": [
    "# tringle pattern \n",
    "\n",
    "# i = 1\n",
    "# while i<=5:\n",
    "#     j=1\n",
    "#     while j<=i:\n",
    "#         print(\"*\",end=\" \")\n",
    "#         j+=1\n",
    "#     print()\n",
    "#     i+=1"
   ]
  },
  {
   "cell_type": "code",
   "execution_count": 9,
   "id": "c0093ad5",
   "metadata": {},
   "outputs": [
    {
     "name": "stdout",
     "output_type": "stream",
     "text": [
      "* * * * * \n",
      "* * * * \n",
      "* * * \n",
      "* * \n",
      "* \n"
     ]
    }
   ],
   "source": [
    "# rev\n",
    "\n",
    "# i = 1\n",
    "# while i<=5:\n",
    "#     j=1\n",
    "#     while j<=6-i:\n",
    "#         print(\"*\", end=\" \")\n",
    "#         j+=1\n",
    "#     print()\n",
    "#     i+=1"
   ]
  },
  {
   "cell_type": "code",
   "execution_count": null,
   "id": "3166a950",
   "metadata": {},
   "outputs": [],
   "source": [
    "# diamond pattern\n",
    "\n",
    "\n",
    "# n = int(input(\"Enter the number of rows: \"))\n",
    "# # Upper Half of Diamond\n",
    "# i = 1\n",
    "# while i <= n:\n",
    "#     j = n\n",
    "#     while j >= i:\n",
    "#         print(' ', end='')\n",
    "#         j -= 1\n",
    "#     k = 1\n",
    "#     while k <= (2 * i - 1):\n",
    "#         print('*', end='')\n",
    "#         k += 1\n",
    "#     print()\n",
    "#     i += 1\n",
    "\n",
    "\n",
    "# i = n - 1\n",
    "# while i >= 1:\n",
    "#     j = n\n",
    "#     while j >= i:\n",
    "#         print(' ', end='')\n",
    "#         j -= 1\n",
    "#     k = 1\n",
    "#     while k <= (2 * i - 1):\n",
    "#         print('*', end='')\n",
    "#         k += 1\n",
    "#     print()\n",
    "#     i -= 1"
   ]
  },
  {
   "cell_type": "markdown",
   "id": "3712bc69",
   "metadata": {},
   "source": [
    "Que7: Reverse a while loop to display numbers from 10 to 1."
   ]
  },
  {
   "cell_type": "code",
   "execution_count": 7,
   "id": "4b12d40f",
   "metadata": {},
   "outputs": [
    {
     "name": "stdout",
     "output_type": "stream",
     "text": [
      "10 9 8 7 6 5 4 3 2 1 "
     ]
    }
   ],
   "source": [
    "# i = 10\n",
    "\n",
    "# while i>=1:\n",
    "#     print(i, end=\" \")\n",
    "#     i-=1"
   ]
  },
  {
   "cell_type": "code",
   "execution_count": null,
   "id": "8d2d38de",
   "metadata": {},
   "outputs": [],
   "source": []
  }
 ],
 "metadata": {
  "kernelspec": {
   "display_name": "Python 3 (ipykernel)",
   "language": "python",
   "name": "python3"
  },
  "language_info": {
   "codemirror_mode": {
    "name": "ipython",
    "version": 3
   },
   "file_extension": ".py",
   "mimetype": "text/x-python",
   "name": "python",
   "nbconvert_exporter": "python",
   "pygments_lexer": "ipython3",
   "version": "3.11.0"
  }
 },
 "nbformat": 4,
 "nbformat_minor": 5
}
